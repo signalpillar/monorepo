{
 "cells": [
  {
   "cell_type": "markdown",
   "metadata": {},
   "source": [
    "# clusters of schools\n",
    "https://levelup.gitconnected.com/clustering-gps-co-ordinates-forming-regions-4f50caa7e4a1"
   ]
  },
  {
   "cell_type": "code",
   "execution_count": 531,
   "metadata": {},
   "outputs": [],
   "source": [
    "from importlib import reload\n",
    "import houses.__main__\n",
    "reload(houses.__main__)\n",
    "from houses.__main__ import SchoolsStorage"
   ]
  },
  {
   "cell_type": "code",
   "execution_count": 532,
   "metadata": {},
   "outputs": [],
   "source": [
    "storage = SchoolsStorage.init()"
   ]
  },
  {
   "cell_type": "code",
   "execution_count": 5,
   "metadata": {},
   "outputs": [],
   "source": [
    "import pandas as pd"
   ]
  },
  {
   "cell_type": "code",
   "execution_count": 71,
   "metadata": {},
   "outputs": [
    {
     "name": "stdout",
     "output_type": "stream",
     "text": [
      "510\n"
     ]
    },
    {
     "data": {
      "text/html": [
       "<div>\n",
       "<style scoped>\n",
       "    .dataframe tbody tr th:only-of-type {\n",
       "        vertical-align: middle;\n",
       "    }\n",
       "\n",
       "    .dataframe tbody tr th {\n",
       "        vertical-align: top;\n",
       "    }\n",
       "\n",
       "    .dataframe thead th {\n",
       "        text-align: right;\n",
       "    }\n",
       "</style>\n",
       "<table border=\"1\" class=\"dataframe\">\n",
       "  <thead>\n",
       "    <tr style=\"text-align: right;\">\n",
       "      <th></th>\n",
       "      <th>urn</th>\n",
       "      <th>latitude</th>\n",
       "      <th>longitude</th>\n",
       "    </tr>\n",
       "  </thead>\n",
       "  <tbody>\n",
       "    <tr>\n",
       "      <th>0</th>\n",
       "      <td>100001</td>\n",
       "      <td>51.519129</td>\n",
       "      <td>-0.094509</td>\n",
       "    </tr>\n",
       "    <tr>\n",
       "      <th>1</th>\n",
       "      <td>100002</td>\n",
       "      <td>51.513834</td>\n",
       "      <td>-0.096820</td>\n",
       "    </tr>\n",
       "    <tr>\n",
       "      <th>2</th>\n",
       "      <td>100049</td>\n",
       "      <td>51.544842</td>\n",
       "      <td>-0.154354</td>\n",
       "    </tr>\n",
       "  </tbody>\n",
       "</table>\n",
       "</div>"
      ],
      "text/plain": [
       "      urn   latitude  longitude\n",
       "0  100001  51.519129  -0.094509\n",
       "1  100002  51.513834  -0.096820\n",
       "2  100049  51.544842  -0.154354"
      ]
     },
     "execution_count": 71,
     "metadata": {},
     "output_type": "execute_result"
    }
   ],
   "source": [
    "df =  pd.DataFrame(storage.iter_school_urn_to_coordinates(\"London\"))\n",
    "print(len(df))\n",
    "df.head(3)"
   ]
  },
  {
   "cell_type": "markdown",
   "metadata": {},
   "source": [
    "## One method to validate the number of clusters is the elbow method.\n",
    "\n",
    "The idea of the elbow method is to run k-means clustering on the dataset for a range of values of k (say, k from 1 to 10), and for each value of k calculate the Sum of Squared Errors (SSE).\n",
    "\n",
    "When K increases, the centroids are closer to the clusters centroids. The improvements will decline rapidly at some point, creating the elbow shape. That is the optimal value for K.\n",
    "\n",
    "This might take a while.. stretch a little."
   ]
  },
  {
   "cell_type": "code",
   "execution_count": 27,
   "metadata": {},
   "outputs": [],
   "source": [
    "from sklearn.cluster import KMeans\n",
    "import matplotlib.pyplot as plt"
   ]
  },
  {
   "cell_type": "code",
   "execution_count": 72,
   "metadata": {},
   "outputs": [],
   "source": [
    "def plot_elbow(k):\n",
    "    k_clusters = range(1, k)\n",
    "    kmeans = [KMeans(n_clusters=i) for i in k_clusters]\n",
    "    y_axis = df[['latitude']]\n",
    "    x_axis = df[['longitude']]\n",
    "    score = [kmeans[i].fit(y_axis).score(y_axis) for i in range(len(kmeans))]\n",
    "    # Visualize\n",
    "    plt.plot(k_clusters, score)\n",
    "    plt.xlabel('Number of Clusters')\n",
    "    plt.ylabel('Score')\n",
    "    plt.title('Elbow Curve')\n",
    "    plt.show()"
   ]
  },
  {
   "cell_type": "code",
   "execution_count": 73,
   "metadata": {},
   "outputs": [
    {
     "data": {
      "image/png": "[encoded data removed]",
      "text/plain": [
       "<Figure size 432x288 with 1 Axes>"
      ]
     },
     "metadata": {
      "needs_background": "light"
     },
     "output_type": "display_data"
    },
    {
     "name": "stdout",
     "output_type": "stream",
     "text": [
      "CPU times: user 5.64 s, sys: 108 ms, total: 5.75 s\n",
      "Wall time: 2.93 s\n"
     ]
    }
   ],
   "source": [
    "%time plot_elbow(40)"
   ]
  },
  {
   "cell_type": "markdown",
   "metadata": {},
   "source": [
    "When we graph the plot, we see that the graph levels off slowly after 3 clusters. This implies that addition of more clusters will not help us that much."
   ]
  },
  {
   "cell_type": "code",
   "execution_count": 499,
   "metadata": {},
   "outputs": [],
   "source": [
    "KMeans?"
   ]
  },
  {
   "cell_type": "code",
   "execution_count": 500,
   "metadata": {},
   "outputs": [],
   "source": [
    "def cluster_schools_by_location(*, dataframe, n_scools_in_cluster):\n",
    "    kmeans = KMeans(n_clusters = int(len(dataframe) / n_scools_in_cluster), init ='random')\n",
    "    coordinates = dataframe.columns[dataframe.columns.get_loc('latitude'):dataframe.columns.get_loc('longitude') + 1]\n",
    "    kmeans.fit(dataframe[coordinates]) # Compute k-means clustering.\n",
    "    dataframe['cluster_label'] = kmeans.fit_predict(dataframe[coordinates])\n",
    "    centers = kmeans.cluster_centers_ # Coordinates of cluster centers.\n",
    "    labels = kmeans.predict(dataframe[coordinates]) # Labels of each point\n",
    "    return centers, labels"
   ]
  },
  {
   "cell_type": "code",
   "execution_count": 119,
   "metadata": {},
   "outputs": [],
   "source": [
    "def get_cluster(*, dataframe, cluster_n):\n",
    "    return dataframe[dataframe['cluster_label']==cluster_n]"
   ]
  },
  {
   "cell_type": "code",
   "execution_count": null,
   "metadata": {},
   "outputs": [],
   "source": []
  },
  {
   "cell_type": "code",
   "execution_count": 75,
   "metadata": {},
   "outputs": [
    {
     "name": "stdout",
     "output_type": "stream",
     "text": [
      "['134735', '138607', '141617']\n"
     ]
    },
    {
     "data": {
      "text/html": [
       "<div>\n",
       "<style scoped>\n",
       "    .dataframe tbody tr th:only-of-type {\n",
       "        vertical-align: middle;\n",
       "    }\n",
       "\n",
       "    .dataframe tbody tr th {\n",
       "        vertical-align: top;\n",
       "    }\n",
       "\n",
       "    .dataframe thead th {\n",
       "        text-align: right;\n",
       "    }\n",
       "</style>\n",
       "<table border=\"1\" class=\"dataframe\">\n",
       "  <thead>\n",
       "    <tr style=\"text-align: right;\">\n",
       "      <th></th>\n",
       "      <th>_id</th>\n",
       "      <th>urn</th>\n",
       "      <th>laname</th>\n",
       "      <th>la</th>\n",
       "      <th>estab</th>\n",
       "      <th>laestab</th>\n",
       "      <th>schname</th>\n",
       "      <th>street</th>\n",
       "      <th>locality</th>\n",
       "      <th>address3</th>\n",
       "      <th>...</th>\n",
       "      <th>schooltype</th>\n",
       "      <th>isprimary</th>\n",
       "      <th>issecondary</th>\n",
       "      <th>ispost16</th>\n",
       "      <th>agelow</th>\n",
       "      <th>agehigh</th>\n",
       "      <th>gender</th>\n",
       "      <th>relchar</th>\n",
       "      <th>admpol</th>\n",
       "      <th>location</th>\n",
       "    </tr>\n",
       "  </thead>\n",
       "  <tbody>\n",
       "    <tr>\n",
       "      <th>0</th>\n",
       "      <td>134735</td>\n",
       "      <td>134735</td>\n",
       "      <td>Hammersmith and Fulham</td>\n",
       "      <td>205</td>\n",
       "      <td>6404</td>\n",
       "      <td>2056404</td>\n",
       "      <td>Chelsea Independent College</td>\n",
       "      <td>517 - 523 Fulham Road</td>\n",
       "      <td></td>\n",
       "      <td></td>\n",
       "      <td>...</td>\n",
       "      <td>Other independent school</td>\n",
       "      <td>0</td>\n",
       "      <td>1</td>\n",
       "      <td>1</td>\n",
       "      <td>14</td>\n",
       "      <td>21</td>\n",
       "      <td>Mixed</td>\n",
       "      <td>None</td>\n",
       "      <td>Not applicable</td>\n",
       "      <td>{'postcode': 'SW6 1HD', 'status': 'live', 'use...</td>\n",
       "    </tr>\n",
       "    <tr>\n",
       "      <th>1</th>\n",
       "      <td>138607</td>\n",
       "      <td>138607</td>\n",
       "      <td>Hammersmith and Fulham</td>\n",
       "      <td>205</td>\n",
       "      <td>4632</td>\n",
       "      <td>2054632</td>\n",
       "      <td>Lady Margaret School</td>\n",
       "      <td>Parson's Green</td>\n",
       "      <td></td>\n",
       "      <td></td>\n",
       "      <td>...</td>\n",
       "      <td>Academy converter</td>\n",
       "      <td>0</td>\n",
       "      <td>1</td>\n",
       "      <td>1</td>\n",
       "      <td>11</td>\n",
       "      <td>18</td>\n",
       "      <td>Girls</td>\n",
       "      <td>Church of England</td>\n",
       "      <td>Non-selective</td>\n",
       "      <td>{'postcode': 'SW6 4UN', 'status': 'live', 'use...</td>\n",
       "    </tr>\n",
       "    <tr>\n",
       "      <th>2</th>\n",
       "      <td>141617</td>\n",
       "      <td>141617</td>\n",
       "      <td>Hammersmith and Fulham</td>\n",
       "      <td>205</td>\n",
       "      <td>4002</td>\n",
       "      <td>2054002</td>\n",
       "      <td>The Hurlingham Academy</td>\n",
       "      <td>Peterborough Road</td>\n",
       "      <td>Fulham</td>\n",
       "      <td></td>\n",
       "      <td>...</td>\n",
       "      <td>Academy sponsor led</td>\n",
       "      <td>0</td>\n",
       "      <td>1</td>\n",
       "      <td>0</td>\n",
       "      <td>11</td>\n",
       "      <td>16</td>\n",
       "      <td>Mixed</td>\n",
       "      <td>Does not apply</td>\n",
       "      <td>Non-selective</td>\n",
       "      <td>{'postcode': 'SW6 3ED', 'status': 'live', 'use...</td>\n",
       "    </tr>\n",
       "  </tbody>\n",
       "</table>\n",
       "<p>3 rows × 26 columns</p>\n",
       "</div>"
      ],
      "text/plain": [
       "      _id     urn                  laname   la estab  laestab  \\\n",
       "0  134735  134735  Hammersmith and Fulham  205  6404  2056404   \n",
       "1  138607  138607  Hammersmith and Fulham  205  4632  2054632   \n",
       "2  141617  141617  Hammersmith and Fulham  205  4002  2054002   \n",
       "\n",
       "                       schname                 street locality address3  ...  \\\n",
       "0  Chelsea Independent College  517 - 523 Fulham Road                    ...   \n",
       "1         Lady Margaret School         Parson's Green                    ...   \n",
       "2       The Hurlingham Academy      Peterborough Road   Fulham           ...   \n",
       "\n",
       "                 schooltype isprimary issecondary ispost16 agelow agehigh  \\\n",
       "0  Other independent school         0           1        1     14      21   \n",
       "1         Academy converter         0           1        1     11      18   \n",
       "2       Academy sponsor led         0           1        0     11      16   \n",
       "\n",
       "  gender            relchar          admpol  \\\n",
       "0  Mixed               None  Not applicable   \n",
       "1  Girls  Church of England   Non-selective   \n",
       "2  Mixed     Does not apply   Non-selective   \n",
       "\n",
       "                                            location  \n",
       "0  {'postcode': 'SW6 1HD', 'status': 'live', 'use...  \n",
       "1  {'postcode': 'SW6 4UN', 'status': 'live', 'use...  \n",
       "2  {'postcode': 'SW6 3ED', 'status': 'live', 'use...  \n",
       "\n",
       "[3 rows x 26 columns]"
      ]
     },
     "execution_count": 75,
     "metadata": {},
     "output_type": "execute_result"
    }
   ],
   "source": [
    "cluster_1 = df[df['cluster_label']==1]\n",
    "cluster_1.head()\n",
    "print(list(cluster_1[\"urn\"]))\n",
    "cluster_df = pd.DataFrame(storage.iter_schools_by_urn(cluster_1[\"urn\"]))\n",
    "cluster_df.head()"
   ]
  },
  {
   "cell_type": "code",
   "execution_count": 83,
   "metadata": {},
   "outputs": [
    {
     "data": {
      "text/plain": [
       "<AxesSubplot:xlabel='latitude', ylabel='longitude'>"
      ]
     },
     "execution_count": 83,
     "metadata": {},
     "output_type": "execute_result"
    },
    {
     "data": {
      "image/png": "[encoded data removed]",
      "text/plain": [
       "<Figure size 432x288 with 1 Axes>"
      ]
     },
     "metadata": {
      "needs_background": "light"
     },
     "output_type": "display_data"
    }
   ],
   "source": [
    "cluster_1.plot.scatter(x = 'latitude', y = 'longitude', s=50, cmap='viridis')"
   ]
  },
  {
   "cell_type": "markdown",
   "metadata": {},
   "source": [
    "## In London only"
   ]
  },
  {
   "cell_type": "code",
   "execution_count": 426,
   "metadata": {},
   "outputs": [
    {
     "name": "stdout",
     "output_type": "stream",
     "text": [
      "143\n"
     ]
    },
    {
     "data": {
      "text/html": [
       "<div>\n",
       "<style scoped>\n",
       "    .dataframe tbody tr th:only-of-type {\n",
       "        vertical-align: middle;\n",
       "    }\n",
       "\n",
       "    .dataframe tbody tr th {\n",
       "        vertical-align: top;\n",
       "    }\n",
       "\n",
       "    .dataframe thead th {\n",
       "        text-align: right;\n",
       "    }\n",
       "</style>\n",
       "<table border=\"1\" class=\"dataframe\">\n",
       "  <thead>\n",
       "    <tr style=\"text-align: right;\">\n",
       "      <th></th>\n",
       "      <th>urn</th>\n",
       "      <th>postcode</th>\n",
       "      <th>town</th>\n",
       "      <th>locality</th>\n",
       "      <th>laname</th>\n",
       "      <th>schooltype</th>\n",
       "      <th>minorgroup</th>\n",
       "      <th>latitude</th>\n",
       "      <th>longitude</th>\n",
       "      <th>schname</th>\n",
       "      <th>agehigh</th>\n",
       "      <th>agelow</th>\n",
       "    </tr>\n",
       "  </thead>\n",
       "  <tbody>\n",
       "    <tr>\n",
       "      <th>0</th>\n",
       "      <td>100049</td>\n",
       "      <td>NW3 2BQ</td>\n",
       "      <td>London</td>\n",
       "      <td>Chalk Farm</td>\n",
       "      <td>Camden</td>\n",
       "      <td>Community school</td>\n",
       "      <td>Maintained school</td>\n",
       "      <td>51.544842</td>\n",
       "      <td>-0.154354</td>\n",
       "      <td>Haverstock School</td>\n",
       "      <td>18</td>\n",
       "      <td>11</td>\n",
       "    </tr>\n",
       "    <tr>\n",
       "      <th>1</th>\n",
       "      <td>100051</td>\n",
       "      <td>NW1 1RX</td>\n",
       "      <td>London</td>\n",
       "      <td>Camden</td>\n",
       "      <td>Camden</td>\n",
       "      <td>Community school</td>\n",
       "      <td>Maintained school</td>\n",
       "      <td>51.533057</td>\n",
       "      <td>-0.133423</td>\n",
       "      <td>Regent High School</td>\n",
       "      <td>18</td>\n",
       "      <td>11</td>\n",
       "    </tr>\n",
       "    <tr>\n",
       "      <th>2</th>\n",
       "      <td>100052</td>\n",
       "      <td>NW2 3RT</td>\n",
       "      <td>London</td>\n",
       "      <td>Hampstead</td>\n",
       "      <td>Camden</td>\n",
       "      <td>Community school</td>\n",
       "      <td>Maintained school</td>\n",
       "      <td>51.555614</td>\n",
       "      <td>-0.207047</td>\n",
       "      <td>Hampstead School</td>\n",
       "      <td>18</td>\n",
       "      <td>11</td>\n",
       "    </tr>\n",
       "  </tbody>\n",
       "</table>\n",
       "</div>"
      ],
      "text/plain": [
       "      urn postcode    town    locality  laname        schooltype  \\\n",
       "0  100049  NW3 2BQ  London  Chalk Farm  Camden  Community school   \n",
       "1  100051  NW1 1RX  London      Camden  Camden  Community school   \n",
       "2  100052  NW2 3RT  London   Hampstead  Camden  Community school   \n",
       "\n",
       "          minorgroup   latitude  longitude             schname agehigh agelow  \n",
       "0  Maintained school  51.544842  -0.154354   Haverstock School      18     11  \n",
       "1  Maintained school  51.533057  -0.133423  Regent High School      18     11  \n",
       "2  Maintained school  51.555614  -0.207047    Hampstead School      18     11  "
      ]
     },
     "execution_count": 426,
     "metadata": {},
     "output_type": "execute_result"
    }
   ],
   "source": [
    "all_schools_df =  pd.DataFrame(storage.iter_schools(towns=[\"London\"], agehigh=18, ignore_girls_school=True))\n",
    "print(len(all_schools_df))\n",
    "all_schools_df.head(3)"
   ]
  },
  {
   "cell_type": "code",
   "execution_count": 218,
   "metadata": {},
   "outputs": [
    {
     "data": {
      "text/html": [
       "<div>\n",
       "<style scoped>\n",
       "    .dataframe tbody tr th:only-of-type {\n",
       "        vertical-align: middle;\n",
       "    }\n",
       "\n",
       "    .dataframe tbody tr th {\n",
       "        vertical-align: top;\n",
       "    }\n",
       "\n",
       "    .dataframe thead th {\n",
       "        text-align: right;\n",
       "    }\n",
       "</style>\n",
       "<table border=\"1\" class=\"dataframe\">\n",
       "  <thead>\n",
       "    <tr style=\"text-align: right;\">\n",
       "      <th></th>\n",
       "      <th>urn</th>\n",
       "      <th>postcode</th>\n",
       "      <th>town</th>\n",
       "      <th>locality</th>\n",
       "      <th>laname</th>\n",
       "      <th>schooltype</th>\n",
       "      <th>minorgroup</th>\n",
       "      <th>latitude</th>\n",
       "      <th>longitude</th>\n",
       "      <th>schname</th>\n",
       "      <th>cluster_label</th>\n",
       "    </tr>\n",
       "  </thead>\n",
       "  <tbody>\n",
       "    <tr>\n",
       "      <th>0</th>\n",
       "      <td>100002</td>\n",
       "      <td>EC4M 9AD</td>\n",
       "      <td>London</td>\n",
       "      <td></td>\n",
       "      <td>City of London</td>\n",
       "      <td>Other independent school</td>\n",
       "      <td>Independent school</td>\n",
       "      <td>51.513834</td>\n",
       "      <td>-0.096820</td>\n",
       "      <td>St Paul's Cathedral School</td>\n",
       "      <td>79</td>\n",
       "    </tr>\n",
       "    <tr>\n",
       "      <th>1</th>\n",
       "      <td>100049</td>\n",
       "      <td>NW3 2BQ</td>\n",
       "      <td>London</td>\n",
       "      <td>Chalk Farm</td>\n",
       "      <td>Camden</td>\n",
       "      <td>Community school</td>\n",
       "      <td>Maintained school</td>\n",
       "      <td>51.544842</td>\n",
       "      <td>-0.154354</td>\n",
       "      <td>Haverstock School</td>\n",
       "      <td>34</td>\n",
       "    </tr>\n",
       "    <tr>\n",
       "      <th>2</th>\n",
       "      <td>100051</td>\n",
       "      <td>NW1 1RX</td>\n",
       "      <td>London</td>\n",
       "      <td>Camden</td>\n",
       "      <td>Camden</td>\n",
       "      <td>Community school</td>\n",
       "      <td>Maintained school</td>\n",
       "      <td>51.533057</td>\n",
       "      <td>-0.133423</td>\n",
       "      <td>Regent High School</td>\n",
       "      <td>105</td>\n",
       "    </tr>\n",
       "  </tbody>\n",
       "</table>\n",
       "</div>"
      ],
      "text/plain": [
       "      urn  postcode    town    locality          laname  \\\n",
       "0  100002  EC4M 9AD  London              City of London   \n",
       "1  100049   NW3 2BQ  London  Chalk Farm          Camden   \n",
       "2  100051   NW1 1RX  London      Camden          Camden   \n",
       "\n",
       "                 schooltype          minorgroup   latitude  longitude  \\\n",
       "0  Other independent school  Independent school  51.513834  -0.096820   \n",
       "1          Community school   Maintained school  51.544842  -0.154354   \n",
       "2          Community school   Maintained school  51.533057  -0.133423   \n",
       "\n",
       "                      schname  cluster_label  \n",
       "0  St Paul's Cathedral School             79  \n",
       "1           Haverstock School             34  \n",
       "2          Regent High School            105  "
      ]
     },
     "execution_count": 218,
     "metadata": {},
     "output_type": "execute_result"
    }
   ],
   "source": [
    "cluster_schools_by_location(dataframe=all_schools_df, n_scools_in_cluster=3)\n",
    "\n",
    "all_schools_df.head(3)"
   ]
  },
  {
   "cell_type": "code",
   "execution_count": 222,
   "metadata": {},
   "outputs": [
    {
     "data": {
      "text/plain": [
       "'N of clusters: 134'"
      ]
     },
     "execution_count": 222,
     "metadata": {},
     "output_type": "execute_result"
    }
   ],
   "source": [
    "\"N of clusters: \" + str(max(all_schools_df.cluster_label.unique()))"
   ]
  },
  {
   "cell_type": "code",
   "execution_count": 236,
   "metadata": {},
   "outputs": [
    {
     "data": {
      "text/plain": [
       "135"
      ]
     },
     "execution_count": 236,
     "metadata": {},
     "output_type": "execute_result"
    }
   ],
   "source": [
    "# filter out clusters that have less than 2 schools\n",
    "# has_at_least_2_schls = all_schools_df.groupby('cluster_label').filter(lambda x: len(x) > 1)\n",
    "has_at_least_2_schls = all_schools_df # .groupby('cluster_label').filter(lambda x: len(x) > 1)\n",
    "\n",
    "len(has_at_least_2_schls.cluster_label.unique())"
   ]
  },
  {
   "cell_type": "code",
   "execution_count": 240,
   "metadata": {},
   "outputs": [
    {
     "data": {
      "text/html": [
       "<div>\n",
       "<style scoped>\n",
       "    .dataframe tbody tr th:only-of-type {\n",
       "        vertical-align: middle;\n",
       "    }\n",
       "\n",
       "    .dataframe tbody tr th {\n",
       "        vertical-align: top;\n",
       "    }\n",
       "\n",
       "    .dataframe thead th {\n",
       "        text-align: right;\n",
       "    }\n",
       "</style>\n",
       "<table border=\"1\" class=\"dataframe\">\n",
       "  <thead>\n",
       "    <tr style=\"text-align: right;\">\n",
       "      <th></th>\n",
       "      <th>urn</th>\n",
       "      <th>postcode</th>\n",
       "      <th>town</th>\n",
       "      <th>locality</th>\n",
       "      <th>laname</th>\n",
       "      <th>schooltype</th>\n",
       "      <th>minorgroup</th>\n",
       "      <th>latitude</th>\n",
       "      <th>longitude</th>\n",
       "      <th>schname</th>\n",
       "      <th>cluster_label</th>\n",
       "    </tr>\n",
       "  </thead>\n",
       "  <tbody>\n",
       "    <tr>\n",
       "      <th>30</th>\n",
       "      <td>100374</td>\n",
       "      <td>SW6 6DA</td>\n",
       "      <td>London</td>\n",
       "      <td>Fulham</td>\n",
       "      <td>Hammersmith and Fulham</td>\n",
       "      <td>Other independent school</td>\n",
       "      <td>Independent school</td>\n",
       "      <td>51.477870</td>\n",
       "      <td>-0.210808</td>\n",
       "      <td>Sinclair House School</td>\n",
       "      <td>29</td>\n",
       "    </tr>\n",
       "    <tr>\n",
       "      <th>164</th>\n",
       "      <td>131165</td>\n",
       "      <td>W14 9SD</td>\n",
       "      <td>London</td>\n",
       "      <td></td>\n",
       "      <td>Hammersmith and Fulham</td>\n",
       "      <td>Other independent school</td>\n",
       "      <td>Independent school</td>\n",
       "      <td>51.486641</td>\n",
       "      <td>-0.210531</td>\n",
       "      <td>Fulham  School</td>\n",
       "      <td>29</td>\n",
       "    </tr>\n",
       "    <tr>\n",
       "      <th>173</th>\n",
       "      <td>131675</td>\n",
       "      <td>SW6 6EG</td>\n",
       "      <td>London</td>\n",
       "      <td>Fulham</td>\n",
       "      <td>Hammersmith and Fulham</td>\n",
       "      <td>Other independent special school</td>\n",
       "      <td>Special school</td>\n",
       "      <td>51.472641</td>\n",
       "      <td>-0.214751</td>\n",
       "      <td>The Moat School</td>\n",
       "      <td>29</td>\n",
       "    </tr>\n",
       "  </tbody>\n",
       "</table>\n",
       "</div>"
      ],
      "text/plain": [
       "        urn postcode    town locality                  laname  \\\n",
       "30   100374  SW6 6DA  London   Fulham  Hammersmith and Fulham   \n",
       "164  131165  W14 9SD  London           Hammersmith and Fulham   \n",
       "173  131675  SW6 6EG  London   Fulham  Hammersmith and Fulham   \n",
       "\n",
       "                           schooltype          minorgroup   latitude  \\\n",
       "30           Other independent school  Independent school  51.477870   \n",
       "164          Other independent school  Independent school  51.486641   \n",
       "173  Other independent special school      Special school  51.472641   \n",
       "\n",
       "     longitude                schname  cluster_label  \n",
       "30   -0.210808  Sinclair House School             29  \n",
       "164  -0.210531         Fulham  School             29  \n",
       "173  -0.214751        The Moat School             29  "
      ]
     },
     "execution_count": 240,
     "metadata": {},
     "output_type": "execute_result"
    }
   ],
   "source": [
    "get_cluster(dataframe=has_at_least_2_schls, cluster_n=29)"
   ]
  },
  {
   "cell_type": "code",
   "execution_count": 288,
   "metadata": {},
   "outputs": [],
   "source": [
    "folium.Popup?"
   ]
  },
  {
   "cell_type": "markdown",
   "metadata": {},
   "source": [
    "## Visualise cluster"
   ]
  },
  {
   "cell_type": "code",
   "execution_count": 489,
   "metadata": {},
   "outputs": [],
   "source": [
    "import folium\n",
    "import itertools\n",
    "import folium.vector_layers\n",
    "\n",
    "\n",
    "def make_popup(school):\n",
    "    return folium.Popup(max_width=450, html=f\"\"\"\n",
    "<b>{school['schname']}</b> in {school['town']}\n",
    "</br>\n",
    "Postcode: {school['postcode']}</br>\n",
    "Group: {school['minorgroup']}</br>\n",
    "Type: {school['schooltype']}</br>\n",
    "Age: {school['agelow']} - {school['agehigh']}</br>\n",
    "\"\"\")\n",
    "\n",
    "def make_marker(*, school: dict, circle_radius_meters=None) -> folium.Marker:\n",
    "    marker_cls = folium.Circle if circle_radius_meters else folium.Marker\n",
    "    attrs = dict(radius=circle_radius_meters,\n",
    "                color='#3186cc',\n",
    "    fill=True,\n",
    "    fill_color='#3186cc'\n",
    "                ) if circle_radius_meters else {}\n",
    "    return marker_cls(\n",
    "            [school.latitude, school.longitude], \n",
    "            popup=make_popup(school), \n",
    "            tooltip=school.schname,\n",
    "            # icon=folium.Icon(color='green'),\n",
    "            **attrs,\n",
    "        )\n",
    "    \n",
    "\n",
    "def vis_schools(*, dataframe, cluster_n, radius_around_schl_meters=0):\n",
    "    rows = dataframe.iterrows()\n",
    "    idx, first = next(rows)\n",
    "    m = folium.Map(location=[first['latitude'], first['longitude']],\n",
    "                # tiles='Stamen Toner', \n",
    "                zoom_start=13)\n",
    "    polygon_locations = []\n",
    "    for idx, school in itertools.chain(((idx, first),), rows):\n",
    "        make_marker(school=school, circle_radius_meters=radius_around_schl_meters).add_to(m)\n",
    "        polygon_locations.append((school['latitude'], school['longitude']))\n",
    "    # m.add_child(folium.ClickForMarker(popup='Interest'))\n",
    "#     m.add_child(folium.vector_layers.Polygon(locations=polygon_locations))\n",
    "    \n",
    "    return m\n",
    "\n",
    "def vis_cluster(*, dataframe, cluster_n):\n",
    "    cluster = get_cluster(dataframe=dataframe, cluster_n=cluster_n)\n",
    "    return cluster, vis_schools(dataframe=cluster, cluster_n=cluster_n)"
   ]
  },
  {
   "cell_type": "code",
   "execution_count": 534,
   "metadata": {},
   "outputs": [],
   "source": [
    "def collect_and_vis(*, towns=None, boroughs=None, n_schools_in_cluster=3, radius_around_schl_meters=0, postcode_areas=(), agehigh=18, ignore_girls_school=True):\n",
    "    all_schools_df =  pd.DataFrame(storage.iter_schools(towns=towns, boroughs=boroughs, postcode_areas=postcode_areas, agehigh=agehigh, ignore_girls_school=ignore_girls_school))\n",
    "    print(f'Total schools found: {len(all_schools_df)}')\n",
    "    if not len(all_schools_df):\n",
    "        return None, None\n",
    "    if len(all_schools_df) <= n_schools_in_cluster:\n",
    "        filtered_by_min_schools_number = all_schools_df\n",
    "    else:\n",
    "        cluster_schools_by_location(dataframe=all_schools_df, n_scools_in_cluster=n_schools_in_cluster)\n",
    "        print(\"N of clusters: \" + str(max(all_schools_df.cluster_label.unique())))\n",
    "        filtered_by_min_schools_number = all_schools_df.groupby('cluster_label').filter(\n",
    "            lambda x: len(x) >= n_schools_in_cluster)\n",
    "\n",
    "        print(f'After filtering clusters by min number ({n_schools_in_cluster}) of schools: '\n",
    "              f'{len(filtered_by_min_schools_number.cluster_label.unique())} clusters left')\n",
    "    return filtered_by_min_schools_number, vis_schools(dataframe=filtered_by_min_schools_number, cluster_n='all', radius_around_schl_meters=radius_around_schl_meters)"
   ]
  },
  {
   "cell_type": "code",
   "execution_count": null,
   "metadata": {},
   "outputs": [],
   "source": []
  },
  {
   "cell_type": "code",
   "execution_count": null,
   "metadata": {},
   "outputs": [],
   "source": []
  },
  {
   "cell_type": "markdown",
   "metadata": {},
   "source": [
    "# Add properties"
   ]
  },
  {
   "cell_type": "code",
   "execution_count": 465,
   "metadata": {},
   "outputs": [],
   "source": [
    "import houses.zoopla\n",
    "reload(houses.zoopla)\n",
    "from houses.zoopla import ListedProperty\n",
    "zoopla = houses.zoopla.get_client(token=\"jd74f2eeskshemzzdaxuzqhw\")"
   ]
  },
  {
   "cell_type": "code",
   "execution_count": 428,
   "metadata": {},
   "outputs": [],
   "source": [
    "def make_property_popup(listed: ListedProperty):\n",
    "    floor_plan = '\\n</br>'.join([\n",
    "        f'<img src=\"{plan_img_url}\" style=\"width: 50%; height: 50%\"></img>'\n",
    "        for plan_img_url in listed.floor_plan\n",
    "    ]\n",
    "    )\n",
    "    return folium.Popup(max_width=950, max_height=950, html=f\"\"\"\n",
    "    <a href=\"https://www.zoopla.co.uk/for-sale/details/{listed.listing_id}\">Zoopla link</a>\n",
    "</br>{listed.property_type} - {listed.num_bathrooms}🛀 - £{listed.price}\n",
    "</br>\n",
    "</br>Bedrooms: {listed.num_bedrooms}\n",
    "</br><img src=\"{listed.image_80_60_url}\"></img>\n",
    "</br>{floor_plan}\n",
    "\"\"\")\n",
    "    \n",
    "\n",
    "def make_property_marker(*, listed: ListedProperty) -> folium.Marker:\n",
    "    return folium.Marker(\n",
    "            [listed.latitude, listed.longitude], \n",
    "            popup=make_property_popup(listed), \n",
    "            tooltip=f'{listed.property_type} - {listed.num_bedrooms}beds - £{listed.price}',\n",
    "            icon=folium.Icon(color='green'),\n",
    "        )\n",
    "\n",
    "def add_properties_to_map(*, zoopla_client, map, dataframe, radius_miles=0.5, maximum_price=400_000, min_beds=2):\n",
    "    postcodes = dataframe.postcode.unique().tolist()\n",
    "    print(f'Search properties for postcodes: {postcodes}')\n",
    "    listings = [\n",
    "        listing\n",
    "        for postcode in postcodes\n",
    "        for result in (zoopla_client.list_listings(\n",
    "            postcode=postcode, \n",
    "            radius_miles=radius_miles, \n",
    "            maximum_price=maximum_price, \n",
    "            minimum_beds=min_beds),)\n",
    "        for listing in result.listing\n",
    "    ]\n",
    "    print(f'Found {len(listings)} properties in listing')\n",
    "    for l in listings:\n",
    "        make_property_marker(listed=l).add_to(map)"
   ]
  },
  {
   "cell_type": "code",
   "execution_count": 533,
   "metadata": {},
   "outputs": [
    {
     "ename": "TypeError",
     "evalue": "collect_and_vis() got an unexpected keyword argument 'boroughs'",
     "output_type": "error",
     "traceback": [
      "\u001b[0;31m---------------------------------------------------------------------------\u001b[0m",
      "\u001b[0;31mTypeError\u001b[0m                                 Traceback (most recent call last)",
      "\u001b[0;32m<ipython-input-533-515000f72a01>\u001b[0m in \u001b[0;36m<module>\u001b[0;34m\u001b[0m\n\u001b[0;32m----> 1\u001b[0;31m clustered, map = collect_and_vis(towns=['Esher'], boroughs=['Hillingdon'],\n\u001b[0m\u001b[1;32m      2\u001b[0m                                  \u001b[0mn_schools_in_cluster\u001b[0m\u001b[0;34m=\u001b[0m\u001b[0;36m2\u001b[0m\u001b[0;34m,\u001b[0m\u001b[0;34m\u001b[0m\u001b[0;34m\u001b[0m\u001b[0m\n\u001b[1;32m      3\u001b[0m                                  \u001b[0mradius_around_schl_meters\u001b[0m\u001b[0;34m=\u001b[0m\u001b[0;36m0\u001b[0m\u001b[0;34m,\u001b[0m\u001b[0;34m\u001b[0m\u001b[0;34m\u001b[0m\u001b[0m\n\u001b[1;32m      4\u001b[0m                                  \u001b[0magehigh\u001b[0m\u001b[0;34m=\u001b[0m\u001b[0;36m18\u001b[0m\u001b[0;34m,\u001b[0m\u001b[0;34m\u001b[0m\u001b[0;34m\u001b[0m\u001b[0m\n\u001b[1;32m      5\u001b[0m                                  postcode_areas=())\n",
      "\u001b[0;31mTypeError\u001b[0m: collect_and_vis() got an unexpected keyword argument 'boroughs'"
     ]
    }
   ],
   "source": [
    "clustered, map = collect_and_vis(towns=['Esher'], boroughs=['Hillingdon'],\n",
    "                                 n_schools_in_cluster=2, \n",
    "                                 radius_around_schl_meters=0, \n",
    "                                 agehigh=18,\n",
    "                                 postcode_areas=())\n"
   ]
  },
  {
   "cell_type": "code",
   "execution_count": 508,
   "metadata": {},
   "outputs": [],
   "source": [
    "cluster = clustered"
   ]
  },
  {
   "cell_type": "code",
   "execution_count": 507,
   "metadata": {},
   "outputs": [
    {
     "data": {
      "text/html": [
       "<div>\n",
       "<style scoped>\n",
       "    .dataframe tbody tr th:only-of-type {\n",
       "        vertical-align: middle;\n",
       "    }\n",
       "\n",
       "    .dataframe tbody tr th {\n",
       "        vertical-align: top;\n",
       "    }\n",
       "\n",
       "    .dataframe thead th {\n",
       "        text-align: right;\n",
       "    }\n",
       "</style>\n",
       "<table border=\"1\" class=\"dataframe\">\n",
       "  <thead>\n",
       "    <tr style=\"text-align: right;\">\n",
       "      <th></th>\n",
       "      <th>urn</th>\n",
       "      <th>postcode</th>\n",
       "      <th>town</th>\n",
       "      <th>locality</th>\n",
       "      <th>laname</th>\n",
       "      <th>schooltype</th>\n",
       "      <th>minorgroup</th>\n",
       "      <th>latitude</th>\n",
       "      <th>longitude</th>\n",
       "      <th>schname</th>\n",
       "      <th>agehigh</th>\n",
       "      <th>agelow</th>\n",
       "    </tr>\n",
       "  </thead>\n",
       "  <tbody>\n",
       "    <tr>\n",
       "      <th>0</th>\n",
       "      <td>125334</td>\n",
       "      <td>KT10 9LY</td>\n",
       "      <td>Esher</td>\n",
       "      <td></td>\n",
       "      <td>Surrey</td>\n",
       "      <td>Other independent school</td>\n",
       "      <td>Independent school</td>\n",
       "      <td>51.358486</td>\n",
       "      <td>-0.370658</td>\n",
       "      <td>Claremont Fan Court School</td>\n",
       "      <td>18</td>\n",
       "      <td>2</td>\n",
       "    </tr>\n",
       "    <tr>\n",
       "      <th>1</th>\n",
       "      <td>137855</td>\n",
       "      <td>KT10 0AQ</td>\n",
       "      <td>Esher</td>\n",
       "      <td>Hinchley Wood</td>\n",
       "      <td>Surrey</td>\n",
       "      <td>Academy converter</td>\n",
       "      <td>Academy</td>\n",
       "      <td>51.378597</td>\n",
       "      <td>-0.331916</td>\n",
       "      <td>Hinchley Wood School</td>\n",
       "      <td>18</td>\n",
       "      <td>11</td>\n",
       "    </tr>\n",
       "  </tbody>\n",
       "</table>\n",
       "</div>"
      ],
      "text/plain": [
       "      urn  postcode   town       locality  laname                schooltype  \\\n",
       "0  125334  KT10 9LY  Esher                 Surrey  Other independent school   \n",
       "1  137855  KT10 0AQ  Esher  Hinchley Wood  Surrey         Academy converter   \n",
       "\n",
       "           minorgroup   latitude  longitude                     schname  \\\n",
       "0  Independent school  51.358486  -0.370658  Claremont Fan Court School   \n",
       "1             Academy  51.378597  -0.331916        Hinchley Wood School   \n",
       "\n",
       "  agehigh agelow  \n",
       "0      18      2  \n",
       "1      18     11  "
      ]
     },
     "execution_count": 507,
     "metadata": {},
     "output_type": "execute_result"
    }
   ],
   "source": [
    "clustered.head(6)"
   ]
  },
  {
   "cell_type": "code",
   "execution_count": 492,
   "metadata": {},
   "outputs": [],
   "source": [
    "cluster, map = vis_cluster(dataframe=clustered, cluster_n=0)"
   ]
  },
  {
   "cell_type": "code",
   "execution_count": 512,
   "metadata": {},
   "outputs": [
    {
     "name": "stdout",
     "output_type": "stream",
     "text": [
      "Search properties for postcodes: ['KT10 9LY', 'KT10 0AQ']\n",
      "Found 11 properties in listing\n"
     ]
    }
   ],
   "source": [
    "add_properties_to_map(zoopla_client=zoopla, map=map, dataframe=cluster, maximum_price=400_000, min_beds=2)"
   ]
  },
  {
   "cell_type": "code",
   "execution_count": 513,
   "metadata": {},
   "outputs": [
    {
     "data": {
      "text/html": [
       "<div style=\"width:100%;\"><div style=\"position:relative;width:100%;height:0;padding-bottom:60%;\"><span style=\"color:#565656\">Make this Notebook Trusted to load map: File -> Trust Notebook</span><iframe src=\"about:blank\" style=\"position:absolute;width:100%;height:100%;left:0;top:0;border:none !important;\" data-html=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 onload=\"this.contentDocument.open();this.contentDocument.write(atob(this.getAttribute('data-html')));this.contentDocument.close();\" allowfullscreen webkitallowfullscreen mozallowfullscreen></iframe></div></div>"
      ],
      "text/plain": [
       "<folium.folium.Map at 0x14289f520>"
      ]
     },
     "execution_count": 513,
     "metadata": {},
     "output_type": "execute_result"
    }
   ],
   "source": [
    "map"
   ]
  },
  {
   "cell_type": "markdown",
   "metadata": {},
   "source": [
    "# all schools we like"
   ]
  },
  {
   "cell_type": "code",
   "execution_count": 546,
   "metadata": {},
   "outputs": [
    {
     "name": "stdout",
     "output_type": "stream",
     "text": [
      "Total schools found: 1\n",
      "Search properties for postcodes: ['W3 8JY']\n",
      "Found 8 properties in listing\n"
     ]
    },
    {
     "data": {
      "text/html": [
       "<div style=\"width:100%;\"><div style=\"position:relative;width:100%;height:0;padding-bottom:60%;\"><span style=\"color:#565656\">Make this Notebook Trusted to load map: File -> Trust Notebook</span><iframe src=\"about:blank\" style=\"position:absolute;width:100%;height:100%;left:0;top:0;border:none !important;\" data-html=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 onload=\"this.contentDocument.open();this.contentDocument.write(atob(this.getAttribute('data-html')));this.contentDocument.close();\" allowfullscreen webkitallowfullscreen mozallowfullscreen></iframe></div></div>"
      ],
      "text/plain": [
       "<folium.folium.Map at 0x143136610>"
      ]
     },
     "execution_count": 546,
     "metadata": {},
     "output_type": "execute_result"
    }
   ],
   "source": [
    "clustered, map = collect_and_vis(agehigh=18, towns=('Ealing',), ignore_girls_school=False, n_schools_in_cluster=2)\n",
    "add_properties_to_map(zoopla_client=zoopla, map=map, dataframe=clustered, maximum_price=400_000, min_beds=2)\n",
    "map"
   ]
  }
 ],
 "metadata": {
  "kernelspec": {
   "display_name": "Python 3",
   "language": "python",
   "name": "python3"
  },
  "language_info": {
   "codemirror_mode": {
    "name": "ipython",
    "version": 3
   },
   "file_extension": ".py",
   "mimetype": "text/x-python",
   "name": "python",
   "nbconvert_exporter": "python",
   "pygments_lexer": "ipython3",
   "version": "3.8.2"
  }
 },
 "nbformat": 4,
 "nbformat_minor": 4
}
