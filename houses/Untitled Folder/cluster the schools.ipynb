{
 "cells": [
  {
   "cell_type": "markdown",
   "metadata": {},
   "source": [
    "# clusters of schools\n",
    "https://levelup.gitconnected.com/clustering-gps-co-ordinates-forming-regions-4f50caa7e4a1"
   ]
  },
  {
   "cell_type": "code",
   "execution_count": 169,
   "metadata": {},
   "outputs": [],
   "source": [
    "from importlib import reload\n",
    "import houses.__main__\n",
    "reload(houses.__main__)\n",
    "from houses.__main__ import SchoolsStorage"
   ]
  },
  {
   "cell_type": "code",
   "execution_count": 170,
   "metadata": {},
   "outputs": [],
   "source": [
    "storage = SchoolsStorage.init()"
   ]
  },
  {
   "cell_type": "code",
   "execution_count": 5,
   "metadata": {},
   "outputs": [],
   "source": [
    "import pandas as pd"
   ]
  },
  {
   "cell_type": "code",
   "execution_count": 71,
   "metadata": {},
   "outputs": [
    {
     "name": "stdout",
     "output_type": "stream",
     "text": [
      "510\n"
     ]
    },
    {
     "data": {
      "text/html": [
       "<div>\n",
       "<style scoped>\n",
       "    .dataframe tbody tr th:only-of-type {\n",
       "        vertical-align: middle;\n",
       "    }\n",
       "\n",
       "    .dataframe tbody tr th {\n",
       "        vertical-align: top;\n",
       "    }\n",
       "\n",
       "    .dataframe thead th {\n",
       "        text-align: right;\n",
       "    }\n",
       "</style>\n",
       "<table border=\"1\" class=\"dataframe\">\n",
       "  <thead>\n",
       "    <tr style=\"text-align: right;\">\n",
       "      <th></th>\n",
       "      <th>urn</th>\n",
       "      <th>latitude</th>\n",
       "      <th>longitude</th>\n",
       "    </tr>\n",
       "  </thead>\n",
       "  <tbody>\n",
       "    <tr>\n",
       "      <th>0</th>\n",
       "      <td>100001</td>\n",
       "      <td>51.519129</td>\n",
       "      <td>-0.094509</td>\n",
       "    </tr>\n",
       "    <tr>\n",
       "      <th>1</th>\n",
       "      <td>100002</td>\n",
       "      <td>51.513834</td>\n",
       "      <td>-0.096820</td>\n",
       "    </tr>\n",
       "    <tr>\n",
       "      <th>2</th>\n",
       "      <td>100049</td>\n",
       "      <td>51.544842</td>\n",
       "      <td>-0.154354</td>\n",
       "    </tr>\n",
       "  </tbody>\n",
       "</table>\n",
       "</div>"
      ],
      "text/plain": [
       "      urn   latitude  longitude\n",
       "0  100001  51.519129  -0.094509\n",
       "1  100002  51.513834  -0.096820\n",
       "2  100049  51.544842  -0.154354"
      ]
     },
     "execution_count": 71,
     "metadata": {},
     "output_type": "execute_result"
    }
   ],
   "source": [
    "df =  pd.DataFrame(storage.iter_school_urn_to_coordinates(\"London\"))\n",
    "print(len(df))\n",
    "df.head(3)"
   ]
  },
  {
   "cell_type": "markdown",
   "metadata": {},
   "source": [
    "## One method to validate the number of clusters is the elbow method.\n",
    "\n",
    "The idea of the elbow method is to run k-means clustering on the dataset for a range of values of k (say, k from 1 to 10), and for each value of k calculate the Sum of Squared Errors (SSE).\n",
    "\n",
    "When K increases, the centroids are closer to the clusters centroids. The improvements will decline rapidly at some point, creating the elbow shape. That is the optimal value for K.\n",
    "\n",
    "This might take a while.. stretch a little."
   ]
  },
  {
   "cell_type": "code",
   "execution_count": 27,
   "metadata": {},
   "outputs": [],
   "source": [
    "from sklearn.cluster import KMeans\n",
    "import matplotlib.pyplot as plt"
   ]
  },
  {
   "cell_type": "code",
   "execution_count": 72,
   "metadata": {},
   "outputs": [],
   "source": [
    "def plot_elbow(k):\n",
    "    k_clusters = range(1, k)\n",
    "    kmeans = [KMeans(n_clusters=i) for i in k_clusters]\n",
    "    y_axis = df[['latitude']]\n",
    "    x_axis = df[['longitude']]\n",
    "    score = [kmeans[i].fit(y_axis).score(y_axis) for i in range(len(kmeans))]\n",
    "    # Visualize\n",
    "    plt.plot(k_clusters, score)\n",
    "    plt.xlabel('Number of Clusters')\n",
    "    plt.ylabel('Score')\n",
    "    plt.title('Elbow Curve')\n",
    "    plt.show()"
   ]
  },
  {
   "cell_type": "code",
   "execution_count": 73,
   "metadata": {},
   "outputs": [
    {
     "data": {
      "image/png": "[encoded data removed]",
      "text/plain": [
       "<Figure size 432x288 with 1 Axes>"
      ]
     },
     "metadata": {
      "needs_background": "light"
     },
     "output_type": "display_data"
    },
    {
     "name": "stdout",
     "output_type": "stream",
     "text": [
      "CPU times: user 5.64 s, sys: 108 ms, total: 5.75 s\n",
      "Wall time: 2.93 s\n"
     ]
    }
   ],
   "source": [
    "%time plot_elbow(40)"
   ]
  },
  {
   "cell_type": "markdown",
   "metadata": {},
   "source": [
    "When we graph the plot, we see that the graph levels off slowly after 3 clusters. This implies that addition of more clusters will not help us that much."
   ]
  },
  {
   "cell_type": "code",
   "execution_count": 116,
   "metadata": {},
   "outputs": [],
   "source": [
    "def cluster_schools_by_location(*, dataframe, n_scools_in_cluster):\n",
    "    kmeans = KMeans(n_clusters = int(len(dataframe) / n_scools_in_cluster), init ='k-means++')\n",
    "    coordinates = dataframe.columns[dataframe.columns.get_loc('latitude'):dataframe.columns.get_loc('longitude') + 1]\n",
    "    kmeans.fit(dataframe[coordinates]) # Compute k-means clustering.\n",
    "    dataframe['cluster_label'] = kmeans.fit_predict(dataframe[coordinates])\n",
    "    centers = kmeans.cluster_centers_ # Coordinates of cluster centers.\n",
    "    labels = kmeans.predict(dataframe[coordinates]) # Labels of each point\n",
    "    return centers, labels"
   ]
  },
  {
   "cell_type": "code",
   "execution_count": 119,
   "metadata": {},
   "outputs": [],
   "source": [
    "def get_cluster(*, dataframe, cluster_n):\n",
    "    return dataframe[dataframe['cluster_label']==cluster_n]"
   ]
  },
  {
   "cell_type": "code",
   "execution_count": null,
   "metadata": {},
   "outputs": [],
   "source": []
  },
  {
   "cell_type": "code",
   "execution_count": 75,
   "metadata": {},
   "outputs": [
    {
     "name": "stdout",
     "output_type": "stream",
     "text": [
      "['134735', '138607', '141617']\n"
     ]
    },
    {
     "data": {
      "text/html": [
       "<div>\n",
       "<style scoped>\n",
       "    .dataframe tbody tr th:only-of-type {\n",
       "        vertical-align: middle;\n",
       "    }\n",
       "\n",
       "    .dataframe tbody tr th {\n",
       "        vertical-align: top;\n",
       "    }\n",
       "\n",
       "    .dataframe thead th {\n",
       "        text-align: right;\n",
       "    }\n",
       "</style>\n",
       "<table border=\"1\" class=\"dataframe\">\n",
       "  <thead>\n",
       "    <tr style=\"text-align: right;\">\n",
       "      <th></th>\n",
       "      <th>_id</th>\n",
       "      <th>urn</th>\n",
       "      <th>laname</th>\n",
       "      <th>la</th>\n",
       "      <th>estab</th>\n",
       "      <th>laestab</th>\n",
       "      <th>schname</th>\n",
       "      <th>street</th>\n",
       "      <th>locality</th>\n",
       "      <th>address3</th>\n",
       "      <th>...</th>\n",
       "      <th>schooltype</th>\n",
       "      <th>isprimary</th>\n",
       "      <th>issecondary</th>\n",
       "      <th>ispost16</th>\n",
       "      <th>agelow</th>\n",
       "      <th>agehigh</th>\n",
       "      <th>gender</th>\n",
       "      <th>relchar</th>\n",
       "      <th>admpol</th>\n",
       "      <th>location</th>\n",
       "    </tr>\n",
       "  </thead>\n",
       "  <tbody>\n",
       "    <tr>\n",
       "      <th>0</th>\n",
       "      <td>134735</td>\n",
       "      <td>134735</td>\n",
       "      <td>Hammersmith and Fulham</td>\n",
       "      <td>205</td>\n",
       "      <td>6404</td>\n",
       "      <td>2056404</td>\n",
       "      <td>Chelsea Independent College</td>\n",
       "      <td>517 - 523 Fulham Road</td>\n",
       "      <td></td>\n",
       "      <td></td>\n",
       "      <td>...</td>\n",
       "      <td>Other independent school</td>\n",
       "      <td>0</td>\n",
       "      <td>1</td>\n",
       "      <td>1</td>\n",
       "      <td>14</td>\n",
       "      <td>21</td>\n",
       "      <td>Mixed</td>\n",
       "      <td>None</td>\n",
       "      <td>Not applicable</td>\n",
       "      <td>{'postcode': 'SW6 1HD', 'status': 'live', 'use...</td>\n",
       "    </tr>\n",
       "    <tr>\n",
       "      <th>1</th>\n",
       "      <td>138607</td>\n",
       "      <td>138607</td>\n",
       "      <td>Hammersmith and Fulham</td>\n",
       "      <td>205</td>\n",
       "      <td>4632</td>\n",
       "      <td>2054632</td>\n",
       "      <td>Lady Margaret School</td>\n",
       "      <td>Parson's Green</td>\n",
       "      <td></td>\n",
       "      <td></td>\n",
       "      <td>...</td>\n",
       "      <td>Academy converter</td>\n",
       "      <td>0</td>\n",
       "      <td>1</td>\n",
       "      <td>1</td>\n",
       "      <td>11</td>\n",
       "      <td>18</td>\n",
       "      <td>Girls</td>\n",
       "      <td>Church of England</td>\n",
       "      <td>Non-selective</td>\n",
       "      <td>{'postcode': 'SW6 4UN', 'status': 'live', 'use...</td>\n",
       "    </tr>\n",
       "    <tr>\n",
       "      <th>2</th>\n",
       "      <td>141617</td>\n",
       "      <td>141617</td>\n",
       "      <td>Hammersmith and Fulham</td>\n",
       "      <td>205</td>\n",
       "      <td>4002</td>\n",
       "      <td>2054002</td>\n",
       "      <td>The Hurlingham Academy</td>\n",
       "      <td>Peterborough Road</td>\n",
       "      <td>Fulham</td>\n",
       "      <td></td>\n",
       "      <td>...</td>\n",
       "      <td>Academy sponsor led</td>\n",
       "      <td>0</td>\n",
       "      <td>1</td>\n",
       "      <td>0</td>\n",
       "      <td>11</td>\n",
       "      <td>16</td>\n",
       "      <td>Mixed</td>\n",
       "      <td>Does not apply</td>\n",
       "      <td>Non-selective</td>\n",
       "      <td>{'postcode': 'SW6 3ED', 'status': 'live', 'use...</td>\n",
       "    </tr>\n",
       "  </tbody>\n",
       "</table>\n",
       "<p>3 rows × 26 columns</p>\n",
       "</div>"
      ],
      "text/plain": [
       "      _id     urn                  laname   la estab  laestab  \\\n",
       "0  134735  134735  Hammersmith and Fulham  205  6404  2056404   \n",
       "1  138607  138607  Hammersmith and Fulham  205  4632  2054632   \n",
       "2  141617  141617  Hammersmith and Fulham  205  4002  2054002   \n",
       "\n",
       "                       schname                 street locality address3  ...  \\\n",
       "0  Chelsea Independent College  517 - 523 Fulham Road                    ...   \n",
       "1         Lady Margaret School         Parson's Green                    ...   \n",
       "2       The Hurlingham Academy      Peterborough Road   Fulham           ...   \n",
       "\n",
       "                 schooltype isprimary issecondary ispost16 agelow agehigh  \\\n",
       "0  Other independent school         0           1        1     14      21   \n",
       "1         Academy converter         0           1        1     11      18   \n",
       "2       Academy sponsor led         0           1        0     11      16   \n",
       "\n",
       "  gender            relchar          admpol  \\\n",
       "0  Mixed               None  Not applicable   \n",
       "1  Girls  Church of England   Non-selective   \n",
       "2  Mixed     Does not apply   Non-selective   \n",
       "\n",
       "                                            location  \n",
       "0  {'postcode': 'SW6 1HD', 'status': 'live', 'use...  \n",
       "1  {'postcode': 'SW6 4UN', 'status': 'live', 'use...  \n",
       "2  {'postcode': 'SW6 3ED', 'status': 'live', 'use...  \n",
       "\n",
       "[3 rows x 26 columns]"
      ]
     },
     "execution_count": 75,
     "metadata": {},
     "output_type": "execute_result"
    }
   ],
   "source": [
    "cluster_1 = df[df['cluster_label']==1]\n",
    "cluster_1.head()\n",
    "print(list(cluster_1[\"urn\"]))\n",
    "cluster_df = pd.DataFrame(storage.iter_schools_by_urn(cluster_1[\"urn\"]))\n",
    "cluster_df.head()"
   ]
  },
  {
   "cell_type": "code",
   "execution_count": 83,
   "metadata": {},
   "outputs": [
    {
     "data": {
      "text/plain": [
       "<AxesSubplot:xlabel='latitude', ylabel='longitude'>"
      ]
     },
     "execution_count": 83,
     "metadata": {},
     "output_type": "execute_result"
    },
    {
     "data": {
      "image/png": "[encoded data removed]",
      "text/plain": [
       "<Figure size 432x288 with 1 Axes>"
      ]
     },
     "metadata": {
      "needs_background": "light"
     },
     "output_type": "display_data"
    }
   ],
   "source": [
    "cluster_1.plot.scatter(x = 'latitude', y = 'longitude', s=50, cmap='viridis')"
   ]
  },
  {
   "cell_type": "markdown",
   "metadata": {},
   "source": [
    "## In London only"
   ]
  },
  {
   "cell_type": "code",
   "execution_count": 171,
   "metadata": {},
   "outputs": [
    {
     "name": "stdout",
     "output_type": "stream",
     "text": [
      "492\n"
     ]
    },
    {
     "data": {
      "text/html": [
       "<div>\n",
       "<style scoped>\n",
       "    .dataframe tbody tr th:only-of-type {\n",
       "        vertical-align: middle;\n",
       "    }\n",
       "\n",
       "    .dataframe tbody tr th {\n",
       "        vertical-align: top;\n",
       "    }\n",
       "\n",
       "    .dataframe thead th {\n",
       "        text-align: right;\n",
       "    }\n",
       "</style>\n",
       "<table border=\"1\" class=\"dataframe\">\n",
       "  <thead>\n",
       "    <tr style=\"text-align: right;\">\n",
       "      <th></th>\n",
       "      <th>urn</th>\n",
       "      <th>postcode</th>\n",
       "      <th>town</th>\n",
       "      <th>locality</th>\n",
       "      <th>laname</th>\n",
       "      <th>schooltype</th>\n",
       "      <th>minorgroup</th>\n",
       "      <th>latitude</th>\n",
       "      <th>longitude</th>\n",
       "      <th>schname</th>\n",
       "    </tr>\n",
       "  </thead>\n",
       "  <tbody>\n",
       "    <tr>\n",
       "      <th>0</th>\n",
       "      <td>100001</td>\n",
       "      <td>EC2Y 8BB</td>\n",
       "      <td>London</td>\n",
       "      <td>Barbican</td>\n",
       "      <td>City of London</td>\n",
       "      <td>Other independent school</td>\n",
       "      <td>Independent school</td>\n",
       "      <td>51.519129</td>\n",
       "      <td>-0.094509</td>\n",
       "      <td>City of London School for Girls</td>\n",
       "    </tr>\n",
       "    <tr>\n",
       "      <th>1</th>\n",
       "      <td>100002</td>\n",
       "      <td>EC4M 9AD</td>\n",
       "      <td>London</td>\n",
       "      <td></td>\n",
       "      <td>City of London</td>\n",
       "      <td>Other independent school</td>\n",
       "      <td>Independent school</td>\n",
       "      <td>51.513834</td>\n",
       "      <td>-0.096820</td>\n",
       "      <td>St Paul's Cathedral School</td>\n",
       "    </tr>\n",
       "    <tr>\n",
       "      <th>2</th>\n",
       "      <td>100049</td>\n",
       "      <td>NW3 2BQ</td>\n",
       "      <td>London</td>\n",
       "      <td>Chalk Farm</td>\n",
       "      <td>Camden</td>\n",
       "      <td>Community school</td>\n",
       "      <td>Maintained school</td>\n",
       "      <td>51.544842</td>\n",
       "      <td>-0.154354</td>\n",
       "      <td>Haverstock School</td>\n",
       "    </tr>\n",
       "  </tbody>\n",
       "</table>\n",
       "</div>"
      ],
      "text/plain": [
       "      urn  postcode    town    locality          laname  \\\n",
       "0  100001  EC2Y 8BB  London    Barbican  City of London   \n",
       "1  100002  EC4M 9AD  London              City of London   \n",
       "2  100049   NW3 2BQ  London  Chalk Farm          Camden   \n",
       "\n",
       "                 schooltype          minorgroup   latitude  longitude  \\\n",
       "0  Other independent school  Independent school  51.519129  -0.094509   \n",
       "1  Other independent school  Independent school  51.513834  -0.096820   \n",
       "2          Community school   Maintained school  51.544842  -0.154354   \n",
       "\n",
       "                           schname  \n",
       "0  City of London School for Girls  \n",
       "1       St Paul's Cathedral School  \n",
       "2                Haverstock School  "
      ]
     },
     "execution_count": 171,
     "metadata": {},
     "output_type": "execute_result"
    }
   ],
   "source": [
    "all_schools_df =  pd.DataFrame(storage.iter_schools(town=\"London\"))\n",
    "print(len(all_schools_df))\n",
    "all_schools_df.head(3)"
   ]
  },
  {
   "cell_type": "code",
   "execution_count": 160,
   "metadata": {},
   "outputs": [
    {
     "data": {
      "text/html": [
       "<div>\n",
       "<style scoped>\n",
       "    .dataframe tbody tr th:only-of-type {\n",
       "        vertical-align: middle;\n",
       "    }\n",
       "\n",
       "    .dataframe tbody tr th {\n",
       "        vertical-align: top;\n",
       "    }\n",
       "\n",
       "    .dataframe thead th {\n",
       "        text-align: right;\n",
       "    }\n",
       "</style>\n",
       "<table border=\"1\" class=\"dataframe\">\n",
       "  <thead>\n",
       "    <tr style=\"text-align: right;\">\n",
       "      <th></th>\n",
       "      <th>urn</th>\n",
       "      <th>postcode</th>\n",
       "      <th>town</th>\n",
       "      <th>locality</th>\n",
       "      <th>laname</th>\n",
       "      <th>schooltype</th>\n",
       "      <th>minorgroup</th>\n",
       "      <th>latitude</th>\n",
       "      <th>longitude</th>\n",
       "      <th>schname</th>\n",
       "      <th>cluster_label</th>\n",
       "    </tr>\n",
       "  </thead>\n",
       "  <tbody>\n",
       "    <tr>\n",
       "      <th>0</th>\n",
       "      <td>100001</td>\n",
       "      <td>EC2Y 8BB</td>\n",
       "      <td>London</td>\n",
       "      <td>Barbican</td>\n",
       "      <td>City of London</td>\n",
       "      <td>Other independent school</td>\n",
       "      <td>Independent school</td>\n",
       "      <td>51.519129</td>\n",
       "      <td>-0.094509</td>\n",
       "      <td>City of London School for Girls</td>\n",
       "      <td>36</td>\n",
       "    </tr>\n",
       "    <tr>\n",
       "      <th>1</th>\n",
       "      <td>100002</td>\n",
       "      <td>EC4M 9AD</td>\n",
       "      <td>London</td>\n",
       "      <td></td>\n",
       "      <td>City of London</td>\n",
       "      <td>Other independent school</td>\n",
       "      <td>Independent school</td>\n",
       "      <td>51.513834</td>\n",
       "      <td>-0.096820</td>\n",
       "      <td>St Paul's Cathedral School</td>\n",
       "      <td>36</td>\n",
       "    </tr>\n",
       "    <tr>\n",
       "      <th>2</th>\n",
       "      <td>100049</td>\n",
       "      <td>NW3 2BQ</td>\n",
       "      <td>London</td>\n",
       "      <td>Chalk Farm</td>\n",
       "      <td>Camden</td>\n",
       "      <td>Community school</td>\n",
       "      <td>Maintained school</td>\n",
       "      <td>51.544842</td>\n",
       "      <td>-0.154354</td>\n",
       "      <td>Haverstock School</td>\n",
       "      <td>51</td>\n",
       "    </tr>\n",
       "  </tbody>\n",
       "</table>\n",
       "</div>"
      ],
      "text/plain": [
       "      urn  postcode    town    locality          laname  \\\n",
       "0  100001  EC2Y 8BB  London    Barbican  City of London   \n",
       "1  100002  EC4M 9AD  London              City of London   \n",
       "2  100049   NW3 2BQ  London  Chalk Farm          Camden   \n",
       "\n",
       "                 schooltype          minorgroup   latitude  longitude  \\\n",
       "0  Other independent school  Independent school  51.519129  -0.094509   \n",
       "1  Other independent school  Independent school  51.513834  -0.096820   \n",
       "2          Community school   Maintained school  51.544842  -0.154354   \n",
       "\n",
       "                           schname  cluster_label  \n",
       "0  City of London School for Girls             36  \n",
       "1       St Paul's Cathedral School             36  \n",
       "2                Haverstock School             51  "
      ]
     },
     "execution_count": 160,
     "metadata": {},
     "output_type": "execute_result"
    }
   ],
   "source": [
    "cluster_schools_by_location(dataframe=all_schools_df, n_scools_in_cluster=3)\n",
    "\n",
    "all_schools_df.head(3)"
   ]
  },
  {
   "cell_type": "code",
   "execution_count": 161,
   "metadata": {},
   "outputs": [
    {
     "data": {
      "text/plain": [
       "163"
      ]
     },
     "execution_count": 161,
     "metadata": {},
     "output_type": "execute_result"
    }
   ],
   "source": [
    "max(all_schools_df.cluster_label.unique())"
   ]
  },
  {
   "cell_type": "code",
   "execution_count": 162,
   "metadata": {},
   "outputs": [
    {
     "data": {
      "text/html": [
       "<div>\n",
       "<style scoped>\n",
       "    .dataframe tbody tr th:only-of-type {\n",
       "        vertical-align: middle;\n",
       "    }\n",
       "\n",
       "    .dataframe tbody tr th {\n",
       "        vertical-align: top;\n",
       "    }\n",
       "\n",
       "    .dataframe thead th {\n",
       "        text-align: right;\n",
       "    }\n",
       "</style>\n",
       "<table border=\"1\" class=\"dataframe\">\n",
       "  <thead>\n",
       "    <tr style=\"text-align: right;\">\n",
       "      <th></th>\n",
       "      <th>urn</th>\n",
       "      <th>postcode</th>\n",
       "      <th>town</th>\n",
       "      <th>locality</th>\n",
       "      <th>laname</th>\n",
       "      <th>schooltype</th>\n",
       "      <th>minorgroup</th>\n",
       "      <th>latitude</th>\n",
       "      <th>longitude</th>\n",
       "      <th>schname</th>\n",
       "      <th>cluster_label</th>\n",
       "    </tr>\n",
       "  </thead>\n",
       "  <tbody>\n",
       "    <tr>\n",
       "      <th>241</th>\n",
       "      <td>132727</td>\n",
       "      <td>E17 5DP</td>\n",
       "      <td>London</td>\n",
       "      <td>Walthamstow</td>\n",
       "      <td>Waltham Forest</td>\n",
       "      <td>Academy sponsor led</td>\n",
       "      <td>Academy</td>\n",
       "      <td>51.599489</td>\n",
       "      <td>-0.024440</td>\n",
       "      <td>Walthamstow Academy</td>\n",
       "      <td>4</td>\n",
       "    </tr>\n",
       "    <tr>\n",
       "      <th>359</th>\n",
       "      <td>138859</td>\n",
       "      <td>E4 8SG</td>\n",
       "      <td>London</td>\n",
       "      <td>Chingford</td>\n",
       "      <td>Waltham Forest</td>\n",
       "      <td>Academy sponsor led</td>\n",
       "      <td>Academy</td>\n",
       "      <td>51.604231</td>\n",
       "      <td>-0.014486</td>\n",
       "      <td>South Chingford Foundation School</td>\n",
       "      <td>4</td>\n",
       "    </tr>\n",
       "  </tbody>\n",
       "</table>\n",
       "</div>"
      ],
      "text/plain": [
       "        urn postcode    town     locality          laname  \\\n",
       "241  132727  E17 5DP  London  Walthamstow  Waltham Forest   \n",
       "359  138859   E4 8SG  London    Chingford  Waltham Forest   \n",
       "\n",
       "              schooltype minorgroup   latitude  longitude  \\\n",
       "241  Academy sponsor led    Academy  51.599489  -0.024440   \n",
       "359  Academy sponsor led    Academy  51.604231  -0.014486   \n",
       "\n",
       "                               schname  cluster_label  \n",
       "241                Walthamstow Academy              4  \n",
       "359  South Chingford Foundation School              4  "
      ]
     },
     "execution_count": 162,
     "metadata": {},
     "output_type": "execute_result"
    }
   ],
   "source": [
    "get_cluster(dataframe=all_schools_df, cluster_n=4)"
   ]
  },
  {
   "cell_type": "code",
   "execution_count": 164,
   "metadata": {},
   "outputs": [
    {
     "data": {
      "text/plain": [
       "136"
      ]
     },
     "execution_count": 164,
     "metadata": {},
     "output_type": "execute_result"
    }
   ],
   "source": [
    "# filter out clusters that have less than 2 schools\n",
    "has_at_least_2_schls = all_schools_df.groupby('cluster_label').filter(lambda x: len(x) > 1)\n",
    "len(has_at_least_2_schls.cluster_label.unique())"
   ]
  },
  {
   "cell_type": "code",
   "execution_count": 167,
   "metadata": {},
   "outputs": [
    {
     "data": {
      "text/html": [
       "<div>\n",
       "<style scoped>\n",
       "    .dataframe tbody tr th:only-of-type {\n",
       "        vertical-align: middle;\n",
       "    }\n",
       "\n",
       "    .dataframe tbody tr th {\n",
       "        vertical-align: top;\n",
       "    }\n",
       "\n",
       "    .dataframe thead th {\n",
       "        text-align: right;\n",
       "    }\n",
       "</style>\n",
       "<table border=\"1\" class=\"dataframe\">\n",
       "  <thead>\n",
       "    <tr style=\"text-align: right;\">\n",
       "      <th></th>\n",
       "      <th>urn</th>\n",
       "      <th>postcode</th>\n",
       "      <th>town</th>\n",
       "      <th>locality</th>\n",
       "      <th>laname</th>\n",
       "      <th>schooltype</th>\n",
       "      <th>minorgroup</th>\n",
       "      <th>latitude</th>\n",
       "      <th>longitude</th>\n",
       "      <th>schname</th>\n",
       "      <th>cluster_label</th>\n",
       "    </tr>\n",
       "  </thead>\n",
       "  <tbody>\n",
       "    <tr>\n",
       "      <th>70</th>\n",
       "      <td>100624</td>\n",
       "      <td>SE19 3NY</td>\n",
       "      <td>London</td>\n",
       "      <td>Lambeth</td>\n",
       "      <td>Lambeth</td>\n",
       "      <td>Community school</td>\n",
       "      <td>Maintained school</td>\n",
       "      <td>51.422730</td>\n",
       "      <td>-0.098493</td>\n",
       "      <td>Norwood School</td>\n",
       "      <td>29</td>\n",
       "    </tr>\n",
       "    <tr>\n",
       "      <th>152</th>\n",
       "      <td>101856</td>\n",
       "      <td>SE19 3QN</td>\n",
       "      <td>London</td>\n",
       "      <td>Upper Norwood</td>\n",
       "      <td>Croydon</td>\n",
       "      <td>Community special school</td>\n",
       "      <td>Special school</td>\n",
       "      <td>51.420240</td>\n",
       "      <td>-0.094687</td>\n",
       "      <td>Priory School</td>\n",
       "      <td>29</td>\n",
       "    </tr>\n",
       "    <tr>\n",
       "      <th>221</th>\n",
       "      <td>131280</td>\n",
       "      <td>SE19 1RS</td>\n",
       "      <td>London</td>\n",
       "      <td>Upper Norwood</td>\n",
       "      <td>Croydon</td>\n",
       "      <td>Voluntary aided school</td>\n",
       "      <td>Maintained school</td>\n",
       "      <td>51.421514</td>\n",
       "      <td>-0.094502</td>\n",
       "      <td>Virgo Fidelis Convent Senior School</td>\n",
       "      <td>29</td>\n",
       "    </tr>\n",
       "  </tbody>\n",
       "</table>\n",
       "</div>"
      ],
      "text/plain": [
       "        urn  postcode    town       locality   laname  \\\n",
       "70   100624  SE19 3NY  London        Lambeth  Lambeth   \n",
       "152  101856  SE19 3QN  London  Upper Norwood  Croydon   \n",
       "221  131280  SE19 1RS  London  Upper Norwood  Croydon   \n",
       "\n",
       "                   schooltype         minorgroup   latitude  longitude  \\\n",
       "70           Community school  Maintained school  51.422730  -0.098493   \n",
       "152  Community special school     Special school  51.420240  -0.094687   \n",
       "221    Voluntary aided school  Maintained school  51.421514  -0.094502   \n",
       "\n",
       "                                 schname  cluster_label  \n",
       "70                        Norwood School             29  \n",
       "152                        Priory School             29  \n",
       "221  Virgo Fidelis Convent Senior School             29  "
      ]
     },
     "execution_count": 167,
     "metadata": {},
     "output_type": "execute_result"
    }
   ],
   "source": [
    "get_cluster(dataframe=has_at_least_2_schls, cluster_n=29)"
   ]
  },
  {
   "cell_type": "markdown",
   "metadata": {},
   "source": [
    "## Visualise cluster"
   ]
  },
  {
   "cell_type": "code",
   "execution_count": null,
   "metadata": {},
   "outputs": [],
   "source": []
  }
 ],
 "metadata": {
  "kernelspec": {
   "display_name": "Python 3",
   "language": "python",
   "name": "python3"
  },
  "language_info": {
   "codemirror_mode": {
    "name": "ipython",
    "version": 3
   },
   "file_extension": ".py",
   "mimetype": "text/x-python",
   "name": "python",
   "nbconvert_exporter": "python",
   "pygments_lexer": "ipython3",
   "version": "3.8.2"
  }
 },
 "nbformat": 4,
 "nbformat_minor": 4
}
